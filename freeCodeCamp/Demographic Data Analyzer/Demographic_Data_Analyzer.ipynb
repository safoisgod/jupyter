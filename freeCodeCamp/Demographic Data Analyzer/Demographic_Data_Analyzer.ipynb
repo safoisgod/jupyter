{
 "cells": [
  {
   "cell_type": "code",
   "execution_count": 69,
   "id": "ad94de64-05ba-4a26-92cc-76e50c8fb1b4",
   "metadata": {},
   "outputs": [],
   "source": [
    "import pandas as pd"
   ]
  },
  {
   "cell_type": "code",
   "execution_count": 70,
   "id": "fd76ca75-812e-4f3f-8d1f-7d0de9a0a0ed",
   "metadata": {},
   "outputs": [],
   "source": [
    "df = pd.read_csv(\"adult.data.csv\")"
   ]
  },
  {
   "cell_type": "code",
   "execution_count": 71,
   "id": "d0f32d58-4109-431c-ad30-b163e8bccea6",
   "metadata": {},
   "outputs": [],
   "source": [
    "pd.set_option(\"display.max_rows\",500)\n",
    "pd.set_option(\"display.max_columns\",500)"
   ]
  },
  {
   "cell_type": "markdown",
   "id": "b4a20dbc-0c79-44f9-aaaf-f06ece14a9a1",
   "metadata": {},
   "source": [
    "### Read data"
   ]
  },
  {
   "cell_type": "code",
   "execution_count": 72,
   "id": "c172abb4-7ac3-41d4-ae62-97801705cc9d",
   "metadata": {},
   "outputs": [
    {
     "name": "stdout",
     "output_type": "stream",
     "text": [
      "       age         workclass  fnlwgt   education  education-num  \\\n",
      "0       39         State-gov   77516   Bachelors             13   \n",
      "1       50  Self-emp-not-inc   83311   Bachelors             13   \n",
      "2       38           Private  215646     HS-grad              9   \n",
      "3       53           Private  234721        11th              7   \n",
      "4       28           Private  338409   Bachelors             13   \n",
      "...    ...               ...     ...         ...            ...   \n",
      "32556   27           Private  257302  Assoc-acdm             12   \n",
      "32557   40           Private  154374     HS-grad              9   \n",
      "32558   58           Private  151910     HS-grad              9   \n",
      "32559   22           Private  201490     HS-grad              9   \n",
      "32560   52      Self-emp-inc  287927     HS-grad              9   \n",
      "\n",
      "           marital-status         occupation   relationship   race     sex  \\\n",
      "0           Never-married       Adm-clerical  Not-in-family  White    Male   \n",
      "1      Married-civ-spouse    Exec-managerial        Husband  White    Male   \n",
      "2                Divorced  Handlers-cleaners  Not-in-family  White    Male   \n",
      "3      Married-civ-spouse  Handlers-cleaners        Husband  Black    Male   \n",
      "4      Married-civ-spouse     Prof-specialty           Wife  Black  Female   \n",
      "...                   ...                ...            ...    ...     ...   \n",
      "32556  Married-civ-spouse       Tech-support           Wife  White  Female   \n",
      "32557  Married-civ-spouse  Machine-op-inspct        Husband  White    Male   \n",
      "32558             Widowed       Adm-clerical      Unmarried  White  Female   \n",
      "32559       Never-married       Adm-clerical      Own-child  White    Male   \n",
      "32560  Married-civ-spouse    Exec-managerial           Wife  White  Female   \n",
      "\n",
      "       capital-gain  capital-loss  hours-per-week native-country salary  \n",
      "0              2174             0              40  United-States  <=50K  \n",
      "1                 0             0              13  United-States  <=50K  \n",
      "2                 0             0              40  United-States  <=50K  \n",
      "3                 0             0              40  United-States  <=50K  \n",
      "4                 0             0              40           Cuba  <=50K  \n",
      "...             ...           ...             ...            ...    ...  \n",
      "32556             0             0              38  United-States  <=50K  \n",
      "32557             0             0              40  United-States   >50K  \n",
      "32558             0             0              40  United-States  <=50K  \n",
      "32559             0             0              20  United-States  <=50K  \n",
      "32560         15024             0              40  United-States   >50K  \n",
      "\n",
      "[32561 rows x 15 columns]\n"
     ]
    }
   ],
   "source": [
    "print(df)"
   ]
  },
  {
   "cell_type": "markdown",
   "id": "e8a2c282-b2fa-4a77-bded-30de52c7a550",
   "metadata": {},
   "source": [
    "### How many of each race are represented in this dataset? This should be a Pandas series with race names as the index labels.\n"
   ]
  },
  {
   "cell_type": "code",
   "execution_count": 73,
   "id": "e8bdb50d-8164-4aad-885a-9cba48472754",
   "metadata": {},
   "outputs": [
    {
     "name": "stdout",
     "output_type": "stream",
     "text": [
      "race\n",
      "White                 27816\n",
      "Black                  3124\n",
      "Asian-Pac-Islander     1039\n",
      "Amer-Indian-Eskimo      311\n",
      "Other                   271\n",
      "Name: count, dtype: int64\n"
     ]
    }
   ],
   "source": [
    "race_count = df[\"race\"].value_counts()\n",
    "print(race_count)"
   ]
  },
  {
   "cell_type": "markdown",
   "id": "3987f0bb-cf59-426b-8bf6-7d7d46f3817a",
   "metadata": {},
   "source": [
    "### What is the average age of men?"
   ]
  },
  {
   "cell_type": "code",
   "execution_count": 74,
   "id": "7dd18327-ca8d-4053-9bc3-73fee75ef4db",
   "metadata": {},
   "outputs": [
    {
     "name": "stdout",
     "output_type": "stream",
     "text": [
      "39.4\n"
     ]
    }
   ],
   "source": [
    "average_age_men = round(df[df[\"sex\"]==\"Male\"][\"age\"].mean(),1)\n",
    "print(average_age_men)"
   ]
  },
  {
   "cell_type": "markdown",
   "id": "180226d7-7630-4f15-ba06-649d5522b816",
   "metadata": {},
   "source": [
    "### What is the percentage of people who have a Bachelor's degree?"
   ]
  },
  {
   "cell_type": "code",
   "execution_count": 77,
   "id": "8ad3545f-900e-4757-88c9-55d907249ae3",
   "metadata": {},
   "outputs": [
    {
     "name": "stdout",
     "output_type": "stream",
     "text": [
      "16.4\n"
     ]
    }
   ],
   "source": [
    "percentage_bachelors = round((df[df[\"education\"]==\"Bachelors\"][\"education\"].shape[0]/df.shape[0])*100,1)\n",
    "print(percentage_bachelors)"
   ]
  },
  {
   "cell_type": "markdown",
   "id": "a949e17f-04e0-4db5-beca-3892c0e3ff52",
   "metadata": {},
   "source": [
    "#### What percentage of people with advanced education (`Bachelors`, `Masters`, or `Doctorate`) make more than 50K?"
   ]
  },
  {
   "cell_type": "code",
   "execution_count": 76,
   "id": "84af0de5-cd9f-4a43-a033-52ae6a7dc4b4",
   "metadata": {},
   "outputs": [
    {
     "name": "stdout",
     "output_type": "stream",
     "text": [
      "49.85333503379671\n"
     ]
    }
   ],
   "source": [
    "percentage_adv_more_than_50K = ((df[(df[\"education-num\"]>=13)&(df[\"salary\"]==\">50K\")].shape[0])/df[df[\"salary\"]==\">50K\"].shape[0])*100\n",
    "print(percentage_adv_more_than_50K)"
   ]
  },
  {
   "cell_type": "markdown",
   "id": "84af6beb-cbbe-4ae2-bbb6-eb354ebc91d1",
   "metadata": {},
   "source": [
    "#### with and without `Bachelors`, `Masters`, or `Doctorate`"
   ]
  },
  {
   "cell_type": "code",
   "execution_count": 40,
   "id": "2ca8c325-9361-4ff4-a1e5-715a3941db44",
   "metadata": {},
   "outputs": [],
   "source": [
    "higher_education = df[df[\"education\"].isin([\"Bachelors\",\"Masters\",\"Doctorate\"])]\n",
    "mask = df[\"education\"].isin([\"Bachelors\",\"Masters\",\"Doctorate\"])\n",
    "lower_education = df[~mask]"
   ]
  },
  {
   "cell_type": "markdown",
   "id": "62c3c47d-e0c5-4bcd-bdab-abb4b8fcaec2",
   "metadata": {},
   "source": [
    "### percentage with salary >50K"
   ]
  },
  {
   "cell_type": "code",
   "execution_count": 65,
   "id": "77a5047f-9bfc-4d74-97a6-3c1069f9c6c2",
   "metadata": {},
   "outputs": [
    {
     "name": "stdout",
     "output_type": "stream",
     "text": [
      "higher_education_rich = 46.5\n",
      "lower_education_rich = 17.4\n"
     ]
    }
   ],
   "source": [
    "higher_education_rich = round(((higher_education[higher_education[\"salary\"]==\">50K\"].shape[0])/higher_education.shape[0])*100,1)\n",
    "lower_education_rich = round(lower_education[lower_education[\"salary\"]==\">50K\"].shape[0]/lower_education.shape[0]*100,1)\n",
    "print(f\"higher_education_rich = {higher_education_rich}\")\n",
    "print(f\"lower_education_rich = {lower_education_rich}\")"
   ]
  },
  {
   "cell_type": "markdown",
   "id": "cfdee85a-fbe2-4e35-8bc3-582c3ef67e06",
   "metadata": {},
   "source": [
    "### What is the minimum number of hours a person works per week (hours-per-week feature)?"
   ]
  },
  {
   "cell_type": "code",
   "execution_count": 67,
   "id": "61d8cd41-d918-4318-9107-02db3c9a0503",
   "metadata": {},
   "outputs": [
    {
     "name": "stdout",
     "output_type": "stream",
     "text": [
      "1\n"
     ]
    }
   ],
   "source": [
    "min_work_hours = df[\"hours-per-week\"].min()\n",
    "print(min_work_hours)"
   ]
  },
  {
   "cell_type": "markdown",
   "id": "07cab7e8-6d4c-424e-bcd4-59d9843c0e68",
   "metadata": {},
   "source": [
    "### What percentage of the people who work the minimum number of hours per week have a salary of >50K?"
   ]
  },
  {
   "cell_type": "code",
   "execution_count": 68,
   "id": "a32284fc-fb4b-46a6-8f5d-952809995e0d",
   "metadata": {},
   "outputs": [
    {
     "name": "stdout",
     "output_type": "stream",
     "text": [
      "10.0\n"
     ]
    }
   ],
   "source": [
    "num_min_workers = df[(df[\"salary\"]==\">50K\")&(df[\"hours-per-week\"]==min_work_hours)].shape[0]\n",
    "\n",
    "rich_percentage = (num_min_workers/df[df[\"hours-per-week\"]==min_work_hours].shape[0])*100\n",
    "print(rich_percentage)"
   ]
  },
  {
   "cell_type": "markdown",
   "id": "d4224077-7946-4bf3-9ced-48b34b223840",
   "metadata": {},
   "source": [
    "### What country has the highest percentage of people that earn >50K?\n"
   ]
  },
  {
   "cell_type": "code",
   "execution_count": 62,
   "id": "2cdd6061-c427-4abc-b781-e3e54b646e5a",
   "metadata": {},
   "outputs": [
    {
     "name": "stdout",
     "output_type": "stream",
     "text": [
      "Iran\n"
     ]
    }
   ],
   "source": [
    "earning_country_count = df[df[\"salary\"]==\">50K\"][\"native-country\"].value_counts()\n",
    "country_count = df[\"native-country\"].value_counts()\n",
    "highest_earning_country = ((earning_country_count/country_count)).sort_values(ascending=False)\n",
    "print(highest_earning_country.idxmax())"
   ]
  },
  {
   "cell_type": "code",
   "execution_count": 79,
   "id": "68349987-26e1-4736-a90a-4238beddc19b",
   "metadata": {},
   "outputs": [
    {
     "name": "stdout",
     "output_type": "stream",
     "text": [
      "41.9\n"
     ]
    }
   ],
   "source": [
    "highest_earning_country_percentage = round(((highest_earning_country_count/country_count)*100).max(),1)\n",
    "print(highest_earning_country_percentage)"
   ]
  },
  {
   "cell_type": "markdown",
   "id": "66b42c51-1f41-4c8a-8664-7e7ddb67ae71",
   "metadata": {},
   "source": [
    "### Identify the most popular occupation for those who earn >50K in India."
   ]
  },
  {
   "cell_type": "code",
   "execution_count": 61,
   "id": "73b8575a-c38b-4694-b14a-cc12692a3b4b",
   "metadata": {},
   "outputs": [
    {
     "name": "stdout",
     "output_type": "stream",
     "text": [
      "Prof-specialty\n"
     ]
    }
   ],
   "source": [
    "top_IN_occupation=(df[(df[\"salary\"]==\">50K\")&(df[\"native-country\"]==\"India\")])[\"occupation\"].value_counts().index[0]\n",
    "print(top_IN_occupation)"
   ]
  }
 ],
 "metadata": {
  "kernelspec": {
   "display_name": "Python 3 (ipykernel)",
   "language": "python",
   "name": "python3"
  },
  "language_info": {
   "codemirror_mode": {
    "name": "ipython",
    "version": 3
   },
   "file_extension": ".py",
   "mimetype": "text/x-python",
   "name": "python",
   "nbconvert_exporter": "python",
   "pygments_lexer": "ipython3",
   "version": "3.12.4"
  }
 },
 "nbformat": 4,
 "nbformat_minor": 5
}
